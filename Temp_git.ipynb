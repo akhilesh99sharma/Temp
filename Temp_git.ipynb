{
  "nbformat": 4,
  "nbformat_minor": 0,
  "metadata": {
    "colab": {
      "provenance": []
    },
    "kernelspec": {
      "name": "python3",
      "display_name": "Python 3"
    },
    "language_info": {
      "name": "python"
    }
  },
  "cells": [
    {
      "cell_type": "code",
      "execution_count": null,
      "metadata": {
        "id": "mFBQw4b1q4g0"
      },
      "outputs": [],
      "source": [
        "from google.colab import drive\n",
        "drive.mount('/content/drive')"
      ]
    },
    {
      "cell_type": "code",
      "source": [
        "import os\n",
        "HOME = os.getcwd()\n",
        "print(HOME)"
      ],
      "metadata": {
        "id": "e0qh9v7PrPaN"
      },
      "execution_count": null,
      "outputs": []
    },
    {
      "cell_type": "code",
      "source": [
        "!pip install ultralytics\n",
        "\n",
        "from IPython import display\n",
        "display.clear_output()\n",
        "\n",
        "import ultralytics\n",
        "ultralytics.checks()"
      ],
      "metadata": {
        "id": "laTue7NArBiW"
      },
      "execution_count": null,
      "outputs": []
    },
    {
      "cell_type": "code",
      "source": [
        "print (model.names)"
      ],
      "metadata": {
        "id": "UjFLaSBzrDEd"
      },
      "execution_count": null,
      "outputs": []
    },
    {
      "cell_type": "code",
      "source": [
        "from ultralytics import YOLO\n",
        "from ultralytics.solutions import object_counter\n",
        "import cv2\n",
        "\n",
        "# Load your model -trained on 3 classes\n",
        "MODEL= \"/content/drive/MyDrive/content/runs/detect/train/weights/best.pt\"\n",
        "from ultralytics import YOLO\n",
        "\n",
        "model = YOLO(MODEL)\n",
        "model.fuse()\n",
        "\n",
        "classes_to_count = [0,1,2]\n",
        "\n",
        "# Setup video capture\n",
        "\n",
        "cap = cv2.VideoCapture(\"/content/drive/MyDrive/DJI_0495.MP4\")\n",
        "assert cap.isOpened(), \"Error opening video stream or file\"\n",
        "\n",
        "# Define your line points for counting\n",
        "line_points = [(1126, 1118), (2786, 1118)]  # Adjust these points as needed\n",
        "\n",
        "# Initialize Object Counter with desired settings\n",
        "counter = object_counter.ObjectCounter()\n",
        "counter.set_args(view_img=True, reg_pts=line_points, classes_names=model.names)\n",
        "\n",
        "# Define the output video path and parameters\n",
        "output_video_path = \"/content/drive/MyDrive/output_video.mp4\"\n",
        "fps = int(cap.get(cv2.CAP_PROP_FPS))\n",
        "frame_size = (int(cap.get(cv2.CAP_PROP_FRAME_WIDTH)), int(cap.get(cv2.CAP_PROP_FRAME_HEIGHT)))\n",
        "\n",
        "# Initialize VideoWriter\n",
        "fourcc = cv2.VideoWriter_fourcc(*'mp4v')\n",
        "out_video = cv2.VideoWriter(output_video_path, fourcc, fps, frame_size)\n",
        "\n",
        "# Process video frames\n",
        "while cap.isOpened():\n",
        "    success, frame = cap.read()\n",
        "    if not success:\n",
        "        break\n",
        "    tracks = model.track(frame, persist=True, show=False, classes=classes_to_count)\n",
        "    frame = counter.start_counting(frame, tracks)\n",
        "\n",
        "    # Write the frame to the output video\n",
        "    out_video.write(frame)\n",
        "\n",
        "# Release the VideoWriter\n",
        "out_video.release()\n",
        "\n",
        "for class_id in classes_to_count:\n",
        "    in_count = counter.in_counts if isinstance(counter.in_counts, int) else counter.in_counts.get(class_id, 0)\n",
        "    out_count = counter.out_counts if isinstance(counter.out_counts, int) else counter.out_counts.get(class_id, 0)\n",
        "\n",
        "    print(f\"In count for {model.names[class_id]}: {in_count}\")\n",
        "    print(f\"Out count for {model.names[class_id]}: {out_count}\")\n",
        "\n",
        "\n",
        "cap.release()\n",
        "cv2.destroyAllWindows()"
      ],
      "metadata": {
        "id": "MXU4bbdRrFkt"
      },
      "execution_count": null,
      "outputs": []
    }
  ]
}